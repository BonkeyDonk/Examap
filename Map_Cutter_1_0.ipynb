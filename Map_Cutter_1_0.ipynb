{
  "nbformat": 4,
  "nbformat_minor": 0,
  "metadata": {
    "colab": {
      "name": "Map Cutter 1.0",
      "provenance": [],
      "authorship_tag": "ABX9TyM0XKtuy5kg8TygY8Db9BKJ",
      "include_colab_link": true
    },
    "kernelspec": {
      "name": "python3",
      "display_name": "Python 3"
    },
    "language_info": {
      "name": "python"
    }
  },
  "cells": [
    {
      "cell_type": "markdown",
      "metadata": {
        "id": "view-in-github",
        "colab_type": "text"
      },
      "source": [
        "<a href=\"https://colab.research.google.com/github/BonkeyDonk/Examap/blob/main/Map_Cutter_1_0.ipynb\" target=\"_parent\"><img src=\"https://colab.research.google.com/assets/colab-badge.svg\" alt=\"Open In Colab\"/></a>"
      ]
    },
    {
      "cell_type": "code",
      "source": [
        "from os import listdir, getcwd, mkdir\n",
        "from os.path import isfile, join\n",
        "from PIL import Image\n",
        "Image.MAX_IMAGE_PIXELS = 10000000000000\n",
        "from google.colab import drive\n",
        "drive.mount('/content/gdrive')"
      ],
      "metadata": {
        "id": "qlG4ukQnxtYl",
        "colab": {
          "base_uri": "https://localhost:8080/"
        },
        "outputId": "52ca3c9c-ad68-4869-cf25-28aa39106599"
      },
      "execution_count": null,
      "outputs": [
        {
          "output_type": "stream",
          "name": "stdout",
          "text": [
            "Mounted at /content/gdrive\n"
          ]
        }
      ]
    },
    {
      "cell_type": "code",
      "source": [
        "cd '/content/gdrive/My Drive/PROJECTS'"
      ],
      "metadata": {
        "colab": {
          "base_uri": "https://localhost:8080/"
        },
        "id": "cbj-N2D7yLze",
        "outputId": "4d009640-d5b8-4e92-8966-cb207b5f6f0e"
      },
      "execution_count": null,
      "outputs": [
        {
          "output_type": "stream",
          "name": "stdout",
          "text": [
            "/content/gdrive/My Drive/PROJECTS\n"
          ]
        }
      ]
    },
    {
      "cell_type": "code",
      "source": [
        "path = getcwd()\n",
        "\n",
        "files = [\n",
        "  f for f in listdir(path)\n",
        "  if isfile(join(path, f))\n",
        "]\n",
        "\n",
        "output = join(path, \"output\")\n",
        "try: mkdir(output)\n",
        "except OSError: pass\n",
        "\n",
        "crop = input(\"Input the x,y coordinates of the topleft pixel, then that of the bottomright pixel, seperated by a space:\")\n",
        "crop = [int(c) for c in crop.split(\" \")]\n",
        "\n",
        "extensions = [\"jpg\", \"png\", \"jpeg\", \"tif\",\"tiff\"]\n",
        "\n",
        "for file in files:\n",
        "  if file.split(\".\")[-1] not in extensions: continue\n",
        "\n",
        "  with Image.open(file) as image:\n",
        "    cropped = image.crop(crop)\n",
        "    cropped.save(join(output, file) + \".png\")\n",
        "    print(\"Processed {}\".format(file))"
      ],
      "metadata": {
        "colab": {
          "base_uri": "https://localhost:8080/"
        },
        "id": "fXgBjZRsymEe",
        "outputId": "928d8374-7e77-45ae-e56f-3beb22ea969b"
      },
      "execution_count": null,
      "outputs": [
        {
          "output_type": "stream",
          "name": "stdout",
          "text": [
            "Input the x,y coordinates of the topleft pixel, then that of the bottomright pixel, seperated by a space:3000 4000 5000 5500\n",
            "Processed lv3 subdvs.tif\n"
          ]
        }
      ]
    }
  ]
}